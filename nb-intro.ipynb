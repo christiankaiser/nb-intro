{
 "cells": [
  {
   "cell_type": "markdown",
   "metadata": {
    "slideshow": {
     "slide_type": "slide"
    }
   },
   "source": [
    "# Jupyter Notebooks"
   ]
  },
  {
   "cell_type": "markdown",
   "metadata": {
    "slideshow": {
     "slide_type": "-"
    }
   },
   "source": [
    "<div style=\"font-size: 70%; line-height: 1; text-align: center;\">\n",
    "<img src=\"figures/wqxB6mn.jpg\"/><br>\n",
    "_Modifié d'après http://i.imgur.com/wqxB6mn.jpg_</div>"
   ]
  },
  {
   "cell_type": "markdown",
   "metadata": {
    "slideshow": {
     "slide_type": "slide"
    }
   },
   "source": [
    "## Par Jupyter, qu'est-ce que c'est?"
   ]
  },
  {
   "cell_type": "markdown",
   "metadata": {
    "slideshow": {
     "slide_type": "-"
    }
   },
   "source": [
    "<div style=\"font-size: 70%; line-height: 1; text-align: center;\">\n",
    "<img src=\"figures/4_M_notebook.jpg\"><br>\n",
    "_Notes d'Albert A. Michelson. https://www.usna.edu/Library/sca/ve-collections/michelson/images/4_M_notebook.jpg_</div>"
   ]
  },
  {
   "cell_type": "markdown",
   "metadata": {
    "slideshow": {
     "slide_type": "subslide"
    }
   },
   "source": [
    "- Mélange de code, textes, images, formules dans le même document\n",
    "- Principe de blocs"
   ]
  },
  {
   "cell_type": "markdown",
   "metadata": {
    "slideshow": {
     "slide_type": "subslide"
    }
   },
   "source": [
    "Comment calculer la distance euclidienne entre deux vecteurs avec Numpy? Voilà:"
   ]
  },
  {
   "cell_type": "code",
   "execution_count": 3,
   "metadata": {
    "collapsed": false
   },
   "outputs": [
    {
     "data": {
      "text/plain": [
       "22.045407685048602"
      ]
     },
     "execution_count": 3,
     "metadata": {},
     "output_type": "execute_result"
    }
   ],
   "source": [
    "import numpy as np\n",
    "a = np.array([1, 2, 3, 4, 5, 6])\n",
    "b = np.array([10, 11, 12, 13, 14, 15])\n",
    "np.sum((a - b)**2)**0.5"
   ]
  },
  {
   "cell_type": "markdown",
   "metadata": {
    "slideshow": {
     "slide_type": "subslide"
    }
   },
   "source": [
    "- [Plusieurs langages](https://github.com/jupyter/jupyter/wiki/Jupyter-kernels): Python, R, Matlab, Mathematica, Lua, Julia, Apache Spark, ...\n",
    "- Pour toutes les plateformes\n",
    "- Facile à partager:\n",
    "    - Export en différents formats\n",
    "    - Sur [Github](https://github.com) ([exemple](https://github.com/christiankaiser/geovis2/blob/master/cours-05%2B06-geovis-dynamique.ipynb))\n",
    "    - N'importe quel site web, avec [Nbviewer](https://nbviewer.jupyter.org) ([exemple](https://nbviewer.jupyter.org/github/christiankaiser/geovis2/blob/master/cours-07a-intro-svg.ipynb))"
   ]
  },
  {
   "cell_type": "markdown",
   "metadata": {
    "slideshow": {
     "slide_type": "slide"
    }
   },
   "source": [
    "## Alternatives"
   ]
  },
  {
   "cell_type": "markdown",
   "metadata": {},
   "source": [
    "- [RMarkdown](http://rmarkdown.rstudio.com/)\n",
    "    - avec d'autres langages aussi (p.ex. Python)\n",
    "    - communauté plus petite"
   ]
  }
 ],
 "metadata": {
  "celltoolbar": "Slideshow",
  "kernelspec": {
   "display_name": "Python 3",
   "language": "python",
   "name": "python3"
  },
  "language_info": {
   "codemirror_mode": {
    "name": "ipython",
    "version": 3
   },
   "file_extension": ".py",
   "mimetype": "text/x-python",
   "name": "python",
   "nbconvert_exporter": "python",
   "pygments_lexer": "ipython3",
   "version": "3.6.0"
  },
  "latex_envs": {
   "LaTeX_envs_menu_present": true,
   "bibliofile": "biblio.bib",
   "cite_by": "apalike",
   "current_citInitial": 1,
   "eqLabelWithNumbers": true,
   "eqNumInitial": 1,
   "labels_anchors": false,
   "latex_user_defs": false,
   "report_style_numbering": false,
   "user_envs_cfg": false
  }
 },
 "nbformat": 4,
 "nbformat_minor": 2
}
