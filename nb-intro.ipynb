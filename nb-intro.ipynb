{
 "cells": [
  {
   "cell_type": "markdown",
   "metadata": {
    "slideshow": {
     "slide_type": "slide"
    }
   },
   "source": [
    "# Jupyter Notebooks"
   ]
  },
  {
   "cell_type": "markdown",
   "metadata": {
    "slideshow": {
     "slide_type": "-"
    }
   },
   "source": [
    "<div style=\"font-size: 70%; line-height: 1; text-align: center;\">\n",
    "<img src=\"figures/wqxB6mn.jpg\"/><br>\n",
    "_Modifié d'après http://i.imgur.com/wqxB6mn.jpg_</div>"
   ]
  },
  {
   "cell_type": "markdown",
   "metadata": {
    "slideshow": {
     "slide_type": "slide"
    }
   },
   "source": [
    "## Par Jupyter, qu'est-ce que c'est?"
   ]
  },
  {
   "cell_type": "markdown",
   "metadata": {
    "slideshow": {
     "slide_type": "-"
    }
   },
   "source": [
    "<div style=\"font-size: 70%; line-height: 1; text-align: center;\">\n",
    "<img src=\"figures/4_M_notebook.jpg\"><br>\n",
    "_Notes d'Albert A. Michelson. https://www.usna.edu/Library/sca/ve-collections/michelson/images/4_M_notebook.jpg_</div>"
   ]
  },
  {
   "cell_type": "markdown",
   "metadata": {
    "slideshow": {
     "slide_type": "subslide"
    }
   },
   "source": [
    "- Mélange de code, textes, images, formules dans le même document\n",
    "- Principe de blocs"
   ]
  },
  {
   "cell_type": "markdown",
   "metadata": {
    "slideshow": {
     "slide_type": "subslide"
    }
   },
   "source": [
    "Comment calculer la distance euclidienne entre deux vecteurs avec Numpy? Voilà:"
   ]
  },
  {
   "cell_type": "code",
   "execution_count": 3,
   "metadata": {
    "collapsed": false
   },
   "outputs": [
    {
     "data": {
      "text/plain": [
       "22.045407685048602"
      ]
     },
     "execution_count": 3,
     "metadata": {},
     "output_type": "execute_result"
    }
   ],
   "source": [
    "import numpy as np\n",
    "a = np.array([1, 2, 3, 4, 5, 6])\n",
    "b = np.array([10, 11, 12, 13, 14, 15])\n",
    "np.sum((a - b)**2)**0.5"
   ]
  },
  {
   "cell_type": "markdown",
   "metadata": {
    "slideshow": {
     "slide_type": "subslide"
    }
   },
   "source": [
    "Types de blocs:\n",
    "\n",
    "- [Markdown](https://daringfireball.net/projects/markdown/)\n",
    "- Code (avec output)"
   ]
  },
  {
   "cell_type": "markdown",
   "metadata": {
    "slideshow": {
     "slide_type": "subslide"
    }
   },
   "source": [
    "### Markdown\n",
    "\n",
    "- Langage simple pour formater des textes, typiquement pour:\n",
    "    - titres\n",
    "    - gras, italic\n",
    "    - listes numérotées ou à puces\n",
    "    - images\n",
    "    - liens\n",
    "    - code\n",
    "\n",
    "- Possible d'intégrer du HTML"
   ]
  },
  {
   "cell_type": "markdown",
   "metadata": {
    "slideshow": {
     "slide_type": "subslide"
    }
   },
   "source": [
    "````markdown\n",
    "# Le titre du document\n",
    "\n",
    "Un peu de texte, avec un [lien](https://en.wikipedia.org/wiki/Asiatic_cheetah).\n",
    "\n",
    "Ou avec une image (localisée dans le dossier `figures`):\n",
    "![](figures/asiatic-cheetah.png)\n",
    "\n",
    "Le code peut être marqué dans le texte comme: `import numpy as np`, ou sous forme d'un paragraphe complet (l'indication du langage permet le syntax highlight):\n",
    "\n",
    "```python\n",
    "import numpy as np\n",
    "```\n",
    "````"
   ]
  },
  {
   "cell_type": "markdown",
   "metadata": {
    "slideshow": {
     "slide_type": "subslide"
    }
   },
   "source": [
    "# Le titre du document\n",
    "\n",
    "Un peu de texte, avec un [lien](https://en.wikipedia.org/wiki/Asiatic_cheetah).\n",
    "\n",
    "Ou avec une image (localisée dans le dossier `figures`):\n",
    "![](figures/asiatic-cheetah.png)\n",
    "\n",
    "Le code peut être marqué dans le texte comme: `import numpy as np`, ou sous forme d'un paragraphe complet (l'indication du langage permet le syntax highlight):\n",
    "\n",
    "```python\n",
    "import numpy as np\n",
    "```"
   ]
  },
  {
   "cell_type": "markdown",
   "metadata": {
    "slideshow": {
     "slide_type": "subslide"
    }
   },
   "source": [
    "````markdown\n",
    "### Formules...\n",
    "\n",
    "Et bien évidemment on peut écrire des formules aussi, syntaxe LaTeX. Dans le texte: $y = a \\cdot x^2$, ou sous forme d'un paragraphe:\n",
    "\n",
    "$$w_{ij} = e^{-\\frac{d_{ij}^2}{2 \\cdot b^2}}$$\n",
    "````"
   ]
  },
  {
   "cell_type": "markdown",
   "metadata": {},
   "source": [
    "### Formules...\n",
    "\n",
    "Et bien évidemment on peut écrire des formules aussi, syntaxe LaTeX. Dans le texte: $y = a \\cdot x^2$, ou sous forme d'un paragraphe:\n",
    "\n",
    "$$w_{ij} = e^{-\\frac{d_{ij}^2}{2 b^2}}$$"
   ]
  },
  {
   "cell_type": "markdown",
   "metadata": {
    "slideshow": {
     "slide_type": "subslide"
    }
   },
   "source": [
    "### Blocs de code\n",
    "\n",
    "- [Plusieurs langages](https://github.com/jupyter/jupyter/wiki/Jupyter-kernels): Python, R, Matlab, Mathematica, Lua, Julia, Apache Spark, ...\n",
    "\n",
    "- Mais un seul langage par Notebook\n",
    "\n",
    "- Python à l'origine (IPython)\n",
    "\n",
    "- Sortie d'images possible (p.ex. graphiques)"
   ]
  },
  {
   "cell_type": "code",
   "execution_count": 6,
   "metadata": {
    "collapsed": false,
    "slideshow": {
     "slide_type": "subslide"
    }
   },
   "outputs": [
    {
     "data": {
      "text/plain": [
       "<matplotlib.axes._subplots.AxesSubplot at 0x1186f6a20>"
      ]
     },
     "execution_count": 6,
     "metadata": {},
     "output_type": "execute_result"
    },
    {
     "data": {
      "image/png": "[encoded data removed]",
      "text/plain": [
       "<matplotlib.figure.Figure at 0x1187236a0>"
      ]
     },
     "metadata": {},
     "output_type": "display_data"
    }
   ],
   "source": [
    "%matplotlib inline\n",
    "import numpy as np\n",
    "import matplotlib as mpl\n",
    "import matplotlib.pyplot as plt\n",
    "import seaborn as sb\n",
    "\n",
    "data = np.random.normal(size=(20, 6)) + np.arange(6) / 2\n",
    "sb.boxplot(data=data)"
   ]
  },
  {
   "cell_type": "markdown",
   "metadata": {
    "slideshow": {
     "slide_type": "slide"
    }
   },
   "source": [
    "## Installation"
   ]
  },
  {
   "cell_type": "markdown",
   "metadata": {},
   "source": [
    "- Pour toutes les plateformes (ou presque)\n",
    "\n",
    "- Dans le navigateur, avec serveur dans le Terminal\n",
    "    - Installer [Anaconda](https://www.anaconda.com/download/) (version Python 2 ou 3)\n",
    "\n",
    "- Installer les kernels nécessaires (p.ex. [IRkernel](https://irkernel.github.io/))\n",
    "\n",
    "- En option: [nteract](https://github.com/nteract/nteract)\n",
    "\n",
    "- Ou sans installation sur [Microsoft Azure](https://notebooks.azure.com/), c'est gratuit"
   ]
  },
  {
   "cell_type": "markdown",
   "metadata": {
    "slideshow": {
     "slide_type": "subslide"
    }
   },
   "source": [
    "Et lancer Jupyter Notebook:\n",
    "\n",
    "![](figures/launch-jupyter.png)"
   ]
  },
  {
   "cell_type": "markdown",
   "metadata": {
    "slideshow": {
     "slide_type": "slide"
    }
   },
   "source": [
    "## Partager"
   ]
  },
  {
   "cell_type": "markdown",
   "metadata": {},
   "source": [
    "- Export en différents formats:\n",
    "    - HTML\n",
    "    - Markdown\n",
    "    - PDF / LaTeX\n",
    "\n",
    "- Possibilité de créer des présentations HTML\n",
    "\n",
    "- Visualisation simple sur [Github](https://github.com) ([exemple](https://github.com/christiankaiser/geovis2/blob/master/cours-05%2B06-geovis-dynamique.ipynb))\n",
    "    - En plus, un notebook se prête bien pour Git\n",
    "\n",
    "- Visualisation avec [Nbviewer](https://nbviewer.jupyter.org) ([exemple](https://nbviewer.jupyter.org/github/christiankaiser/geovis2/blob/master/cours-07a-intro-svg.ipynb)) si accessible avec une URL (p.ex. sur Github)"
   ]
  },
  {
   "cell_type": "markdown",
   "metadata": {
    "slideshow": {
     "slide_type": "slide"
    }
   },
   "source": [
    "## Limites et extensions"
   ]
  },
  {
   "cell_type": "markdown",
   "metadata": {},
   "source": [
    "- Pas de calcul dans un bloc Markdown (sauf avec l'extension [Python-Markdown](https://github.com/ipython-contrib/jupyter_contrib_nbextensions/tree/master/src/jupyter_contrib_nbextensions/nbextensions/python-markdown))\n",
    "\n",
    "- Bibliographies non supportées (sauf avec l'extension [latex_envs](https://github.com/jfbercher/jupyter_latex_envs))\n",
    "\n",
    "- Structure de document à la Mathematica pas supportée (sauf avec l'extension [Collapsible Headings](https://github.com/ipython-contrib/jupyter_contrib_nbextensions/tree/master/src/jupyter_contrib_nbextensions/nbextensions/collapsible_headings))\n",
    "\n",
    "- Pas de possibilité de cacher le code (pour un document dynamique)\n",
    "\n",
    "- Contrôle de la sortie dans différents formats pas toujous simple"
   ]
  },
  {
   "cell_type": "markdown",
   "metadata": {
    "slideshow": {
     "slide_type": "slide"
    }
   },
   "source": [
    "## Jupyter Notebooks dans l'enseignement"
   ]
  },
  {
   "cell_type": "markdown",
   "metadata": {},
   "source": [
    "- Facile à mettre en place et à partager\n",
    "    - Utilisé dans [ADG](https://github.com/christiankaiser/adg) et [Géovis 2](https://github.com/christiankaiser/geovis2)\n",
    "\n",
    "- Facile à consulter pour les étudiants\n",
    "\n",
    "- Utilisation active par les étudiants ok, une fois l'installation et les premiers pas sont faits"
   ]
  },
  {
   "cell_type": "markdown",
   "metadata": {
    "slideshow": {
     "slide_type": "slide"
    }
   },
   "source": [
    "## Alternatives à Jupyter"
   ]
  },
  {
   "cell_type": "markdown",
   "metadata": {},
   "source": [
    "- [RMarkdown](http://rmarkdown.rstudio.com/)\n",
    "    - avec d'autres langages aussi (p.ex. Python)\n",
    "    - communauté plus petite"
   ]
  },
  {
   "cell_type": "markdown",
   "metadata": {
    "slideshow": {
     "slide_type": "slide"
    }
   },
   "source": [
    "# Merci pour votre attention\n",
    "<hr>\n",
    "<div style=\"font-size: 70%; line-height: 1; text-align: center;\">\n",
    "<img src=\"figures/famille-asterix.jpg\"/><br>\n",
    "_Source: http://img.over-blog-kiwi.com/0/45/67/89/201307/ob_ba0404b2a17cdcc7f813410612377af4_famille-asterix.jpg_</div>\n",
    "\n"
   ]
  }
 ],
 "metadata": {
  "celltoolbar": "Slideshow",
  "kernelspec": {
   "display_name": "Python 3",
   "language": "python",
   "name": "python3"
  },
  "language_info": {
   "codemirror_mode": {
    "name": "ipython",
    "version": 3
   },
   "file_extension": ".py",
   "mimetype": "text/x-python",
   "name": "python",
   "nbconvert_exporter": "python",
   "pygments_lexer": "ipython3",
   "version": "3.6.0"
  },
  "latex_envs": {
   "LaTeX_envs_menu_present": true,
   "bibliofile": "biblio.bib",
   "cite_by": "apalike",
   "current_citInitial": 1,
   "eqLabelWithNumbers": true,
   "eqNumInitial": 1,
   "labels_anchors": false,
   "latex_user_defs": false,
   "report_style_numbering": false,
   "user_envs_cfg": false
  }
 },
 "nbformat": 4,
 "nbformat_minor": 2
}
